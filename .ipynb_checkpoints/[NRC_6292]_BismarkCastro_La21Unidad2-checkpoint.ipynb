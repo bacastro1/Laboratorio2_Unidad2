{
 "cells": [
  {
   "cell_type": "code",
   "execution_count": 1,
   "id": "99eed495",
   "metadata": {},
   "outputs": [
    {
     "name": "stdout",
     "output_type": "stream",
     "text": [
      "Se se procede a importar los modulos necesarios con sus librerías.\n"
     ]
    }
   ],
   "source": [
    "def librerias():\n",
    "    '''Se se procede a importar los modulos necesarios con sus librerías.'''\n",
    "import pandas as pd\n",
    "import numpy as np\n",
    "print(librerias.__doc__)"
   ]
  },
  {
   "cell_type": "code",
   "execution_count": 2,
   "id": "1dd2aeb7",
   "metadata": {},
   "outputs": [
    {
     "name": "stdout",
     "output_type": "stream",
     "text": [
      "Se cargan los datos del dataset.\n"
     ]
    }
   ],
   "source": [
    "def dataset():\n",
    "    '''Se cargan los datos del dataset.'''\n",
    "df = pd.read_csv('data_act_01.csv', sep=';')\n",
    "print(dataset.__doc__)"
   ]
  },
  {
   "cell_type": "code",
   "execution_count": 3,
   "id": "7e7ffc61",
   "metadata": {},
   "outputs": [
    {
     "name": "stdout",
     "output_type": "stream",
     "text": [
      "Se presenta las primeras filas del dataset ya que se devuelve las primeras fila\n"
     ]
    },
    {
     "data": {
      "text/html": [
       "<div>\n",
       "<style scoped>\n",
       "    .dataframe tbody tr th:only-of-type {\n",
       "        vertical-align: middle;\n",
       "    }\n",
       "\n",
       "    .dataframe tbody tr th {\n",
       "        vertical-align: top;\n",
       "    }\n",
       "\n",
       "    .dataframe thead th {\n",
       "        text-align: right;\n",
       "    }\n",
       "</style>\n",
       "<table border=\"1\" class=\"dataframe\">\n",
       "  <thead>\n",
       "    <tr style=\"text-align: right;\">\n",
       "      <th></th>\n",
       "      <th>CrimeId</th>\n",
       "      <th>OriginalCrimeTypeName</th>\n",
       "      <th>OffenseDate</th>\n",
       "      <th>CallTime</th>\n",
       "      <th>CallDateTime</th>\n",
       "      <th>Disposition</th>\n",
       "      <th>Address</th>\n",
       "      <th>City</th>\n",
       "      <th>State</th>\n",
       "      <th>AgencyId</th>\n",
       "      <th>Range</th>\n",
       "      <th>AddressType</th>\n",
       "    </tr>\n",
       "  </thead>\n",
       "  <tbody>\n",
       "    <tr>\n",
       "      <th>0</th>\n",
       "      <td>160903280</td>\n",
       "      <td>Assault / Battery</td>\n",
       "      <td>2016-03-30T00:00:00</td>\n",
       "      <td>18:42</td>\n",
       "      <td>2016-03-30T18:42:00</td>\n",
       "      <td>REP</td>\n",
       "      <td>100 Block Of Chilton Av</td>\n",
       "      <td>San Francisco</td>\n",
       "      <td>CA</td>\n",
       "      <td>1</td>\n",
       "      <td>NaN</td>\n",
       "      <td>Premise Address</td>\n",
       "    </tr>\n",
       "    <tr>\n",
       "      <th>1</th>\n",
       "      <td>160912272</td>\n",
       "      <td>Homeless Complaint</td>\n",
       "      <td>2016-03-31T00:00:00</td>\n",
       "      <td>15:31</td>\n",
       "      <td>2016-03-31T15:31:00</td>\n",
       "      <td>GOA</td>\n",
       "      <td>2300 Block Of Market St</td>\n",
       "      <td>San Francisco</td>\n",
       "      <td>CA</td>\n",
       "      <td>1</td>\n",
       "      <td>NaN</td>\n",
       "      <td>Premise Address</td>\n",
       "    </tr>\n",
       "    <tr>\n",
       "      <th>2</th>\n",
       "      <td>160912590</td>\n",
       "      <td>Susp Info</td>\n",
       "      <td>2016-03-31T00:00:00</td>\n",
       "      <td>16:49</td>\n",
       "      <td>2016-03-31T16:49:00</td>\n",
       "      <td>GOA</td>\n",
       "      <td>2300 Block Of Market St</td>\n",
       "      <td>San Francisco</td>\n",
       "      <td>CA</td>\n",
       "      <td>1</td>\n",
       "      <td>NaN</td>\n",
       "      <td>Premise Address</td>\n",
       "    </tr>\n",
       "    <tr>\n",
       "      <th>3</th>\n",
       "      <td>160912801</td>\n",
       "      <td>Report</td>\n",
       "      <td>2016-03-31T00:00:00</td>\n",
       "      <td>17:38</td>\n",
       "      <td>2016-03-31T17:38:00</td>\n",
       "      <td>GOA</td>\n",
       "      <td>500 Block Of 7th St</td>\n",
       "      <td>San Francisco</td>\n",
       "      <td>CA</td>\n",
       "      <td>1</td>\n",
       "      <td>NaN</td>\n",
       "      <td>Premise Address</td>\n",
       "    </tr>\n",
       "    <tr>\n",
       "      <th>4</th>\n",
       "      <td>160912811</td>\n",
       "      <td>594</td>\n",
       "      <td>2016-03-31T00:00:00</td>\n",
       "      <td>17:42</td>\n",
       "      <td>2016-03-31T17:42:00</td>\n",
       "      <td>REP</td>\n",
       "      <td>Beale St/bryant St</td>\n",
       "      <td>San Francisco</td>\n",
       "      <td>CA</td>\n",
       "      <td>1</td>\n",
       "      <td>NaN</td>\n",
       "      <td>Intersection</td>\n",
       "    </tr>\n",
       "  </tbody>\n",
       "</table>\n",
       "</div>"
      ],
      "text/plain": [
       "     CrimeId OriginalCrimeTypeName          OffenseDate CallTime  \\\n",
       "0  160903280     Assault / Battery  2016-03-30T00:00:00    18:42   \n",
       "1  160912272    Homeless Complaint  2016-03-31T00:00:00    15:31   \n",
       "2  160912590             Susp Info  2016-03-31T00:00:00    16:49   \n",
       "3  160912801                Report  2016-03-31T00:00:00    17:38   \n",
       "4  160912811                   594  2016-03-31T00:00:00    17:42   \n",
       "\n",
       "          CallDateTime Disposition                  Address           City  \\\n",
       "0  2016-03-30T18:42:00         REP  100 Block Of Chilton Av  San Francisco   \n",
       "1  2016-03-31T15:31:00         GOA  2300 Block Of Market St  San Francisco   \n",
       "2  2016-03-31T16:49:00         GOA  2300 Block Of Market St  San Francisco   \n",
       "3  2016-03-31T17:38:00         GOA      500 Block Of 7th St  San Francisco   \n",
       "4  2016-03-31T17:42:00         REP       Beale St/bryant St  San Francisco   \n",
       "\n",
       "  State AgencyId  Range      AddressType  \n",
       "0    CA        1    NaN  Premise Address  \n",
       "1    CA        1    NaN  Premise Address  \n",
       "2    CA        1    NaN  Premise Address  \n",
       "3    CA        1    NaN  Premise Address  \n",
       "4    CA        1    NaN     Intersection  "
      ]
     },
     "execution_count": 3,
     "metadata": {},
     "output_type": "execute_result"
    }
   ],
   "source": [
    "def imprimirhead():\n",
    "    '''Se presenta las primeras filas del dataset ya que se devuelve las primeras fila'''\n",
    "print(imprimirhead.__doc__)\n",
    "df.head()"
   ]
  },
  {
   "cell_type": "code",
   "execution_count": 4,
   "id": "74afe143",
   "metadata": {},
   "outputs": [
    {
     "name": "stdout",
     "output_type": "stream",
     "text": [
      "Devuelve el número de valores faltantes en el conjunto de datos para eliminar sus errores.\n",
      "CrimeId                      0\n",
      "OriginalCrimeTypeName        0\n",
      "OffenseDate                  0\n",
      "CallTime                     0\n",
      "CallDateTime                 0\n",
      "Disposition                  0\n",
      "Address                      0\n",
      "City                       321\n",
      "State                        3\n",
      "AgencyId                     0\n",
      "Range                    10051\n",
      "AddressType                  0\n",
      "dtype: int64\n"
     ]
    }
   ],
   "source": [
    "def imprimirvaloresfaltantes():\n",
    "    '''Devuelve el número de valores faltantes en el conjunto de datos para eliminar sus errores.'''\n",
    "print(imprimirvaloresfaltantes.__doc__)\n",
    "print(df.isnull().sum())"
   ]
  },
  {
   "cell_type": "code",
   "execution_count": 5,
   "id": "834863f3",
   "metadata": {},
   "outputs": [
    {
     "name": "stdout",
     "output_type": "stream",
     "text": [
      "El primero error se ha encontrado imprimiento los valores faltantes y descubrir que range \n",
      "    es columna nula por lo que se procede a borrarla.\n"
     ]
    },
    {
     "data": {
      "text/html": [
       "<div>\n",
       "<style scoped>\n",
       "    .dataframe tbody tr th:only-of-type {\n",
       "        vertical-align: middle;\n",
       "    }\n",
       "\n",
       "    .dataframe tbody tr th {\n",
       "        vertical-align: top;\n",
       "    }\n",
       "\n",
       "    .dataframe thead th {\n",
       "        text-align: right;\n",
       "    }\n",
       "</style>\n",
       "<table border=\"1\" class=\"dataframe\">\n",
       "  <thead>\n",
       "    <tr style=\"text-align: right;\">\n",
       "      <th></th>\n",
       "      <th>CrimeId</th>\n",
       "      <th>OriginalCrimeTypeName</th>\n",
       "      <th>OffenseDate</th>\n",
       "      <th>CallTime</th>\n",
       "      <th>CallDateTime</th>\n",
       "      <th>Disposition</th>\n",
       "      <th>Address</th>\n",
       "      <th>City</th>\n",
       "      <th>State</th>\n",
       "      <th>AgencyId</th>\n",
       "      <th>AddressType</th>\n",
       "    </tr>\n",
       "  </thead>\n",
       "  <tbody>\n",
       "    <tr>\n",
       "      <th>0</th>\n",
       "      <td>160903280</td>\n",
       "      <td>Assault / Battery</td>\n",
       "      <td>2016-03-30T00:00:00</td>\n",
       "      <td>18:42</td>\n",
       "      <td>2016-03-30T18:42:00</td>\n",
       "      <td>REP</td>\n",
       "      <td>100 Block Of Chilton Av</td>\n",
       "      <td>San Francisco</td>\n",
       "      <td>CA</td>\n",
       "      <td>1</td>\n",
       "      <td>Premise Address</td>\n",
       "    </tr>\n",
       "    <tr>\n",
       "      <th>1</th>\n",
       "      <td>160912272</td>\n",
       "      <td>Homeless Complaint</td>\n",
       "      <td>2016-03-31T00:00:00</td>\n",
       "      <td>15:31</td>\n",
       "      <td>2016-03-31T15:31:00</td>\n",
       "      <td>GOA</td>\n",
       "      <td>2300 Block Of Market St</td>\n",
       "      <td>San Francisco</td>\n",
       "      <td>CA</td>\n",
       "      <td>1</td>\n",
       "      <td>Premise Address</td>\n",
       "    </tr>\n",
       "    <tr>\n",
       "      <th>2</th>\n",
       "      <td>160912590</td>\n",
       "      <td>Susp Info</td>\n",
       "      <td>2016-03-31T00:00:00</td>\n",
       "      <td>16:49</td>\n",
       "      <td>2016-03-31T16:49:00</td>\n",
       "      <td>GOA</td>\n",
       "      <td>2300 Block Of Market St</td>\n",
       "      <td>San Francisco</td>\n",
       "      <td>CA</td>\n",
       "      <td>1</td>\n",
       "      <td>Premise Address</td>\n",
       "    </tr>\n",
       "    <tr>\n",
       "      <th>3</th>\n",
       "      <td>160912801</td>\n",
       "      <td>Report</td>\n",
       "      <td>2016-03-31T00:00:00</td>\n",
       "      <td>17:38</td>\n",
       "      <td>2016-03-31T17:38:00</td>\n",
       "      <td>GOA</td>\n",
       "      <td>500 Block Of 7th St</td>\n",
       "      <td>San Francisco</td>\n",
       "      <td>CA</td>\n",
       "      <td>1</td>\n",
       "      <td>Premise Address</td>\n",
       "    </tr>\n",
       "    <tr>\n",
       "      <th>4</th>\n",
       "      <td>160912811</td>\n",
       "      <td>594</td>\n",
       "      <td>2016-03-31T00:00:00</td>\n",
       "      <td>17:42</td>\n",
       "      <td>2016-03-31T17:42:00</td>\n",
       "      <td>REP</td>\n",
       "      <td>Beale St/bryant St</td>\n",
       "      <td>San Francisco</td>\n",
       "      <td>CA</td>\n",
       "      <td>1</td>\n",
       "      <td>Intersection</td>\n",
       "    </tr>\n",
       "    <tr>\n",
       "      <th>...</th>\n",
       "      <td>...</td>\n",
       "      <td>...</td>\n",
       "      <td>...</td>\n",
       "      <td>...</td>\n",
       "      <td>...</td>\n",
       "      <td>...</td>\n",
       "      <td>...</td>\n",
       "      <td>...</td>\n",
       "      <td>...</td>\n",
       "      <td>...</td>\n",
       "      <td>...</td>\n",
       "    </tr>\n",
       "    <tr>\n",
       "      <th>10046</th>\n",
       "      <td>160964210</td>\n",
       "      <td>Well Being Check</td>\n",
       "      <td>2016-04-05T00:00:00</td>\n",
       "      <td>23:38</td>\n",
       "      <td>2016-04-05T23:38:00</td>\n",
       "      <td>GOA</td>\n",
       "      <td>Hollister Av/hawes St</td>\n",
       "      <td>San Francisco</td>\n",
       "      <td>CA</td>\n",
       "      <td>1</td>\n",
       "      <td>Intersection</td>\n",
       "    </tr>\n",
       "    <tr>\n",
       "      <th>10047</th>\n",
       "      <td>160964216</td>\n",
       "      <td>Traffic Stop</td>\n",
       "      <td>2016-04-05T00:00:00</td>\n",
       "      <td>23:43</td>\n",
       "      <td>2016-04-05T23:43:00</td>\n",
       "      <td>ADV</td>\n",
       "      <td>California St/mason St</td>\n",
       "      <td>San Francisco</td>\n",
       "      <td>CA</td>\n",
       "      <td>1</td>\n",
       "      <td>Intersection</td>\n",
       "    </tr>\n",
       "    <tr>\n",
       "      <th>10048</th>\n",
       "      <td>160964227</td>\n",
       "      <td>Traffic Stop</td>\n",
       "      <td>2016-04-05T00:00:00</td>\n",
       "      <td>23:48</td>\n",
       "      <td>2016-04-05T23:48:00</td>\n",
       "      <td>CIT</td>\n",
       "      <td>Rosella Ct/onondaga Av</td>\n",
       "      <td>San Francisco</td>\n",
       "      <td>CA</td>\n",
       "      <td>1</td>\n",
       "      <td>Intersection</td>\n",
       "    </tr>\n",
       "    <tr>\n",
       "      <th>10049</th>\n",
       "      <td>160964229</td>\n",
       "      <td>Passing Call</td>\n",
       "      <td>2016-04-05T00:00:00</td>\n",
       "      <td>23:48</td>\n",
       "      <td>2016-04-05T23:48:00</td>\n",
       "      <td>Not recorded</td>\n",
       "      <td>0 Blk Herbst Rd</td>\n",
       "      <td>San Francisco</td>\n",
       "      <td>CA</td>\n",
       "      <td>1</td>\n",
       "      <td>Geo-Override</td>\n",
       "    </tr>\n",
       "    <tr>\n",
       "      <th>10050</th>\n",
       "      <td>160964249</td>\n",
       "      <td>Traffic Stop</td>\n",
       "      <td>2016-04-05T00:00:00</td>\n",
       "      <td>23:54</td>\n",
       "      <td>2016-04-05T23:54:00</td>\n",
       "      <td>ADV</td>\n",
       "      <td>Grant Av/geary St</td>\n",
       "      <td>San Francisco</td>\n",
       "      <td>CA</td>\n",
       "      <td>1</td>\n",
       "      <td>Intersection</td>\n",
       "    </tr>\n",
       "  </tbody>\n",
       "</table>\n",
       "<p>10051 rows × 11 columns</p>\n",
       "</div>"
      ],
      "text/plain": [
       "         CrimeId OriginalCrimeTypeName          OffenseDate CallTime  \\\n",
       "0      160903280     Assault / Battery  2016-03-30T00:00:00    18:42   \n",
       "1      160912272    Homeless Complaint  2016-03-31T00:00:00    15:31   \n",
       "2      160912590             Susp Info  2016-03-31T00:00:00    16:49   \n",
       "3      160912801                Report  2016-03-31T00:00:00    17:38   \n",
       "4      160912811                   594  2016-03-31T00:00:00    17:42   \n",
       "...          ...                   ...                  ...      ...   \n",
       "10046  160964210      Well Being Check  2016-04-05T00:00:00    23:38   \n",
       "10047  160964216          Traffic Stop  2016-04-05T00:00:00    23:43   \n",
       "10048  160964227          Traffic Stop  2016-04-05T00:00:00    23:48   \n",
       "10049  160964229          Passing Call  2016-04-05T00:00:00    23:48   \n",
       "10050  160964249          Traffic Stop  2016-04-05T00:00:00    23:54   \n",
       "\n",
       "              CallDateTime   Disposition                  Address  \\\n",
       "0      2016-03-30T18:42:00           REP  100 Block Of Chilton Av   \n",
       "1      2016-03-31T15:31:00           GOA  2300 Block Of Market St   \n",
       "2      2016-03-31T16:49:00           GOA  2300 Block Of Market St   \n",
       "3      2016-03-31T17:38:00           GOA      500 Block Of 7th St   \n",
       "4      2016-03-31T17:42:00           REP       Beale St/bryant St   \n",
       "...                    ...           ...                      ...   \n",
       "10046  2016-04-05T23:38:00           GOA    Hollister Av/hawes St   \n",
       "10047  2016-04-05T23:43:00           ADV   California St/mason St   \n",
       "10048  2016-04-05T23:48:00           CIT   Rosella Ct/onondaga Av   \n",
       "10049  2016-04-05T23:48:00  Not recorded          0 Blk Herbst Rd   \n",
       "10050  2016-04-05T23:54:00           ADV        Grant Av/geary St   \n",
       "\n",
       "                City State AgencyId      AddressType  \n",
       "0      San Francisco    CA        1  Premise Address  \n",
       "1      San Francisco    CA        1  Premise Address  \n",
       "2      San Francisco    CA        1  Premise Address  \n",
       "3      San Francisco    CA        1  Premise Address  \n",
       "4      San Francisco    CA        1     Intersection  \n",
       "...              ...   ...      ...              ...  \n",
       "10046  San Francisco    CA        1     Intersection  \n",
       "10047  San Francisco    CA        1     Intersection  \n",
       "10048  San Francisco    CA        1     Intersection  \n",
       "10049  San Francisco    CA        1     Geo-Override  \n",
       "10050  San Francisco    CA        1     Intersection  \n",
       "\n",
       "[10051 rows x 11 columns]"
      ]
     },
     "execution_count": 5,
     "metadata": {},
     "output_type": "execute_result"
    }
   ],
   "source": [
    "def EliminacionColumnaNula():\n",
    "    '''El primero error se ha encontrado imprimiento los valores faltantes y descubrir que range \n",
    "    es columna nula por lo que se procede a borrarla.'''\n",
    "df = df.drop(['Range'], axis=1)\n",
    "print(EliminacionColumnaNula.__doc__)\n",
    "df"
   ]
  },
  {
   "cell_type": "code",
   "execution_count": 6,
   "id": "9a43d5c8",
   "metadata": {},
   "outputs": [
    {
     "name": "stdout",
     "output_type": "stream",
     "text": [
      "El segundo error es que OffenseDate tiene dato incorrecto por lo que se procede a cambiarla.\n",
      "0        2016-03-30\n",
      "1        2016-03-31\n",
      "2        2016-03-31\n",
      "3        2016-03-31\n",
      "4        2016-03-31\n",
      "            ...    \n",
      "10046    2016-04-05\n",
      "10047    2016-04-05\n",
      "10048    2016-04-05\n",
      "10049    2016-04-05\n",
      "10050    2016-04-05\n",
      "Name: OffenseDate, Length: 10051, dtype: object\n"
     ]
    }
   ],
   "source": [
    "def DatoIncorrectoOffenseDate():\n",
    "    '''El segundo error es que OffenseDate tiene dato incorrecto por lo que se procede a cambiarla.'''\n",
    "df['OffenseDate'] = pd.to_datetime(df['OffenseDate']).dt.date\n",
    "print(DatoIncorrectoOffenseDate.__doc__)\n",
    "print(df['OffenseDate'])"
   ]
  },
  {
   "cell_type": "code",
   "execution_count": 7,
   "id": "1e19a4e5",
   "metadata": {},
   "outputs": [
    {
     "name": "stdout",
     "output_type": "stream",
     "text": [
      "El tercer error se identifica cuando los Id deben ser unicos en los delitos.\n",
      "0        160903280\n",
      "1        160912272\n",
      "2        160912590\n",
      "3        160912801\n",
      "4        160912811\n",
      "           ...    \n",
      "10046    160964210\n",
      "10047    160964216\n",
      "10048    160964227\n",
      "10049    160964229\n",
      "10050    160964249\n",
      "Name: CrimeId, Length: 10051, dtype: int32\n"
     ]
    }
   ],
   "source": [
    "def IdSonUnicos():\n",
    "    '''El tercer error se identifica cuando los Id deben ser unicos en los delitos.'''\n",
    "df['CrimeId']= df['CrimeId'].astype(int)\n",
    "print(IdSonUnicos.__doc__)\n",
    "print(df['CrimeId'])"
   ]
  },
  {
   "cell_type": "code",
   "execution_count": 8,
   "id": "654dcfa2",
   "metadata": {},
   "outputs": [
    {
     "name": "stdout",
     "output_type": "stream",
     "text": [
      "Se procede a verificar los CrimeId que estan duplicados y se puede apreciar que son 4.\n"
     ]
    },
    {
     "data": {
      "text/html": [
       "<div>\n",
       "<style scoped>\n",
       "    .dataframe tbody tr th:only-of-type {\n",
       "        vertical-align: middle;\n",
       "    }\n",
       "\n",
       "    .dataframe tbody tr th {\n",
       "        vertical-align: top;\n",
       "    }\n",
       "\n",
       "    .dataframe thead th {\n",
       "        text-align: right;\n",
       "    }\n",
       "</style>\n",
       "<table border=\"1\" class=\"dataframe\">\n",
       "  <thead>\n",
       "    <tr style=\"text-align: right;\">\n",
       "      <th></th>\n",
       "      <th>CrimeId</th>\n",
       "      <th>OriginalCrimeTypeName</th>\n",
       "      <th>OffenseDate</th>\n",
       "      <th>CallTime</th>\n",
       "      <th>CallDateTime</th>\n",
       "      <th>Disposition</th>\n",
       "      <th>Address</th>\n",
       "      <th>City</th>\n",
       "      <th>State</th>\n",
       "      <th>AgencyId</th>\n",
       "      <th>AddressType</th>\n",
       "    </tr>\n",
       "  </thead>\n",
       "  <tbody>\n",
       "    <tr>\n",
       "      <th>1707</th>\n",
       "      <td>160913455</td>\n",
       "      <td>Susp</td>\n",
       "      <td>2016-04-01</td>\n",
       "      <td>18:29</td>\n",
       "      <td>2016-04-01T18:29:00</td>\n",
       "      <td>GOA</td>\n",
       "      <td>Geary St/larkin St</td>\n",
       "      <td>San Francisco</td>\n",
       "      <td>CA</td>\n",
       "      <td>1</td>\n",
       "      <td>Intersection</td>\n",
       "    </tr>\n",
       "    <tr>\n",
       "      <th>3792</th>\n",
       "      <td>160913455</td>\n",
       "      <td>Passing Call</td>\n",
       "      <td>2016-04-02</td>\n",
       "      <td>17:11</td>\n",
       "      <td>2016-04-02T17:11:00</td>\n",
       "      <td>Not recorded</td>\n",
       "      <td>900 Block Of Market St</td>\n",
       "      <td>San Francisco</td>\n",
       "      <td>CA</td>\n",
       "      <td>1</td>\n",
       "      <td>Premise Address</td>\n",
       "    </tr>\n",
       "    <tr>\n",
       "      <th>7046</th>\n",
       "      <td>160950496</td>\n",
       "      <td>Suspicious Vehicle</td>\n",
       "      <td>2016-04-04</td>\n",
       "      <td>6:51</td>\n",
       "      <td>2016-04-04T06:51:00</td>\n",
       "      <td>ND</td>\n",
       "      <td>1400 Block Of Cabrillo St</td>\n",
       "      <td>San Francisco</td>\n",
       "      <td>CA</td>\n",
       "      <td>1</td>\n",
       "      <td>Premise Address</td>\n",
       "    </tr>\n",
       "    <tr>\n",
       "      <th>7047</th>\n",
       "      <td>160950496</td>\n",
       "      <td>Trespasser</td>\n",
       "      <td>2016-04-04</td>\n",
       "      <td>6:51</td>\n",
       "      <td>2016-04-04T06:51:00</td>\n",
       "      <td>CAN</td>\n",
       "      <td>Block Of Hampshire St</td>\n",
       "      <td>San Francisco</td>\n",
       "      <td>CA</td>\n",
       "      <td>1</td>\n",
       "      <td>Premise Address</td>\n",
       "    </tr>\n",
       "  </tbody>\n",
       "</table>\n",
       "</div>"
      ],
      "text/plain": [
       "        CrimeId OriginalCrimeTypeName OffenseDate CallTime  \\\n",
       "1707  160913455                  Susp  2016-04-01    18:29   \n",
       "3792  160913455          Passing Call  2016-04-02    17:11   \n",
       "7046  160950496    Suspicious Vehicle  2016-04-04     6:51   \n",
       "7047  160950496            Trespasser  2016-04-04     6:51   \n",
       "\n",
       "             CallDateTime   Disposition                    Address  \\\n",
       "1707  2016-04-01T18:29:00           GOA         Geary St/larkin St   \n",
       "3792  2016-04-02T17:11:00  Not recorded     900 Block Of Market St   \n",
       "7046  2016-04-04T06:51:00            ND  1400 Block Of Cabrillo St   \n",
       "7047  2016-04-04T06:51:00           CAN      Block Of Hampshire St   \n",
       "\n",
       "               City State AgencyId      AddressType  \n",
       "1707  San Francisco    CA        1     Intersection  \n",
       "3792  San Francisco    CA        1  Premise Address  \n",
       "7046  San Francisco    CA        1  Premise Address  \n",
       "7047  San Francisco    CA        1  Premise Address  "
      ]
     },
     "execution_count": 8,
     "metadata": {},
     "output_type": "execute_result"
    }
   ],
   "source": [
    "def VerificacionDuplicados():\n",
    "    '''Se procede a verificar los CrimeId que estan duplicados y se puede apreciar que son 4.'''\n",
    "print(VerificacionDuplicados.__doc__)\n",
    "df[df.CrimeId.duplicated()]"
   ]
  },
  {
   "cell_type": "code",
   "execution_count": 9,
   "id": "9e79fd43",
   "metadata": {},
   "outputs": [
    {
     "data": {
      "text/html": [
       "<div>\n",
       "<style scoped>\n",
       "    .dataframe tbody tr th:only-of-type {\n",
       "        vertical-align: middle;\n",
       "    }\n",
       "\n",
       "    .dataframe tbody tr th {\n",
       "        vertical-align: top;\n",
       "    }\n",
       "\n",
       "    .dataframe thead th {\n",
       "        text-align: right;\n",
       "    }\n",
       "</style>\n",
       "<table border=\"1\" class=\"dataframe\">\n",
       "  <thead>\n",
       "    <tr style=\"text-align: right;\">\n",
       "      <th></th>\n",
       "      <th>CrimeId</th>\n",
       "      <th>OriginalCrimeTypeName</th>\n",
       "      <th>OffenseDate</th>\n",
       "      <th>CallTime</th>\n",
       "      <th>CallDateTime</th>\n",
       "      <th>Disposition</th>\n",
       "      <th>Address</th>\n",
       "      <th>City</th>\n",
       "      <th>State</th>\n",
       "      <th>AgencyId</th>\n",
       "      <th>AddressType</th>\n",
       "    </tr>\n",
       "  </thead>\n",
       "  <tbody>\n",
       "    <tr>\n",
       "      <th>26</th>\n",
       "      <td>160913455</td>\n",
       "      <td>Vandalism</td>\n",
       "      <td>2016-03-31</td>\n",
       "      <td>20:53</td>\n",
       "      <td>2016-03-31T20:53:00</td>\n",
       "      <td>ND</td>\n",
       "      <td>1600 Block Of Sunnydale Av</td>\n",
       "      <td>San Francisco</td>\n",
       "      <td>CA</td>\n",
       "      <td>1</td>\n",
       "      <td>Premise Address</td>\n",
       "    </tr>\n",
       "    <tr>\n",
       "      <th>1707</th>\n",
       "      <td>160913455</td>\n",
       "      <td>Susp</td>\n",
       "      <td>2016-04-01</td>\n",
       "      <td>18:29</td>\n",
       "      <td>2016-04-01T18:29:00</td>\n",
       "      <td>GOA</td>\n",
       "      <td>Geary St/larkin St</td>\n",
       "      <td>San Francisco</td>\n",
       "      <td>CA</td>\n",
       "      <td>1</td>\n",
       "      <td>Intersection</td>\n",
       "    </tr>\n",
       "    <tr>\n",
       "      <th>3792</th>\n",
       "      <td>160913455</td>\n",
       "      <td>Passing Call</td>\n",
       "      <td>2016-04-02</td>\n",
       "      <td>17:11</td>\n",
       "      <td>2016-04-02T17:11:00</td>\n",
       "      <td>Not recorded</td>\n",
       "      <td>900 Block Of Market St</td>\n",
       "      <td>San Francisco</td>\n",
       "      <td>CA</td>\n",
       "      <td>1</td>\n",
       "      <td>Premise Address</td>\n",
       "    </tr>\n",
       "  </tbody>\n",
       "</table>\n",
       "</div>"
      ],
      "text/plain": [
       "        CrimeId OriginalCrimeTypeName OffenseDate CallTime  \\\n",
       "26    160913455             Vandalism  2016-03-31    20:53   \n",
       "1707  160913455                  Susp  2016-04-01    18:29   \n",
       "3792  160913455          Passing Call  2016-04-02    17:11   \n",
       "\n",
       "             CallDateTime   Disposition                     Address  \\\n",
       "26    2016-03-31T20:53:00            ND  1600 Block Of Sunnydale Av   \n",
       "1707  2016-04-01T18:29:00           GOA          Geary St/larkin St   \n",
       "3792  2016-04-02T17:11:00  Not recorded      900 Block Of Market St   \n",
       "\n",
       "               City State AgencyId      AddressType  \n",
       "26    San Francisco    CA        1  Premise Address  \n",
       "1707  San Francisco    CA        1     Intersection  \n",
       "3792  San Francisco    CA        1  Premise Address  "
      ]
     },
     "execution_count": 9,
     "metadata": {},
     "output_type": "execute_result"
    }
   ],
   "source": [
    "'''Se modifica el primer ID.'''\n",
    "dato = df.loc[:, 'CrimeId'] == 160913455\n",
    "df_rep = df.loc[dato]\n",
    "df_rep"
   ]
  },
  {
   "cell_type": "code",
   "execution_count": 10,
   "id": "cf8be9b0",
   "metadata": {},
   "outputs": [
    {
     "data": {
      "text/html": [
       "<div>\n",
       "<style scoped>\n",
       "    .dataframe tbody tr th:only-of-type {\n",
       "        vertical-align: middle;\n",
       "    }\n",
       "\n",
       "    .dataframe tbody tr th {\n",
       "        vertical-align: top;\n",
       "    }\n",
       "\n",
       "    .dataframe thead th {\n",
       "        text-align: right;\n",
       "    }\n",
       "</style>\n",
       "<table border=\"1\" class=\"dataframe\">\n",
       "  <thead>\n",
       "    <tr style=\"text-align: right;\">\n",
       "      <th></th>\n",
       "      <th>CrimeId</th>\n",
       "      <th>OriginalCrimeTypeName</th>\n",
       "      <th>OffenseDate</th>\n",
       "      <th>CallTime</th>\n",
       "      <th>CallDateTime</th>\n",
       "      <th>Disposition</th>\n",
       "      <th>Address</th>\n",
       "      <th>City</th>\n",
       "      <th>State</th>\n",
       "      <th>AgencyId</th>\n",
       "      <th>AddressType</th>\n",
       "    </tr>\n",
       "  </thead>\n",
       "  <tbody>\n",
       "    <tr>\n",
       "      <th>7045</th>\n",
       "      <td>160950496</td>\n",
       "      <td>Passing Call</td>\n",
       "      <td>2016-04-04</td>\n",
       "      <td>6:51</td>\n",
       "      <td>2016-04-04T06:51:00</td>\n",
       "      <td>HAN</td>\n",
       "      <td>University St/felton St</td>\n",
       "      <td>San Francisco</td>\n",
       "      <td>CA</td>\n",
       "      <td>1</td>\n",
       "      <td>Intersection</td>\n",
       "    </tr>\n",
       "    <tr>\n",
       "      <th>7046</th>\n",
       "      <td>160950496</td>\n",
       "      <td>Suspicious Vehicle</td>\n",
       "      <td>2016-04-04</td>\n",
       "      <td>6:51</td>\n",
       "      <td>2016-04-04T06:51:00</td>\n",
       "      <td>ND</td>\n",
       "      <td>1400 Block Of Cabrillo St</td>\n",
       "      <td>San Francisco</td>\n",
       "      <td>CA</td>\n",
       "      <td>1</td>\n",
       "      <td>Premise Address</td>\n",
       "    </tr>\n",
       "    <tr>\n",
       "      <th>7047</th>\n",
       "      <td>160950496</td>\n",
       "      <td>Trespasser</td>\n",
       "      <td>2016-04-04</td>\n",
       "      <td>6:51</td>\n",
       "      <td>2016-04-04T06:51:00</td>\n",
       "      <td>CAN</td>\n",
       "      <td>Block Of Hampshire St</td>\n",
       "      <td>San Francisco</td>\n",
       "      <td>CA</td>\n",
       "      <td>1</td>\n",
       "      <td>Premise Address</td>\n",
       "    </tr>\n",
       "  </tbody>\n",
       "</table>\n",
       "</div>"
      ],
      "text/plain": [
       "        CrimeId OriginalCrimeTypeName OffenseDate CallTime  \\\n",
       "7045  160950496          Passing Call  2016-04-04     6:51   \n",
       "7046  160950496    Suspicious Vehicle  2016-04-04     6:51   \n",
       "7047  160950496            Trespasser  2016-04-04     6:51   \n",
       "\n",
       "             CallDateTime Disposition                    Address  \\\n",
       "7045  2016-04-04T06:51:00         HAN    University St/felton St   \n",
       "7046  2016-04-04T06:51:00          ND  1400 Block Of Cabrillo St   \n",
       "7047  2016-04-04T06:51:00         CAN      Block Of Hampshire St   \n",
       "\n",
       "               City State AgencyId      AddressType  \n",
       "7045  San Francisco    CA        1     Intersection  \n",
       "7046  San Francisco    CA        1  Premise Address  \n",
       "7047  San Francisco    CA        1  Premise Address  "
      ]
     },
     "execution_count": 10,
     "metadata": {},
     "output_type": "execute_result"
    }
   ],
   "source": [
    "'''Se modifica el segundo ID.'''\n",
    "dato = df.loc[:, 'CrimeId'] == 160950496\n",
    "df_rep = df.loc[dato]\n",
    "df_rep"
   ]
  },
  {
   "cell_type": "code",
   "execution_count": 11,
   "id": "087efc3e",
   "metadata": {},
   "outputs": [
    {
     "data": {
      "text/plain": [
       "160964249"
      ]
     },
     "execution_count": 11,
     "metadata": {},
     "output_type": "execute_result"
    }
   ],
   "source": [
    "'''Se visualiza el máximo valor de los id para asignar nuevos id a los repetidos.'''\n",
    "df.CrimeId.max()"
   ]
  },
  {
   "cell_type": "code",
   "execution_count": 12,
   "id": "b4c9a0b2",
   "metadata": {},
   "outputs": [],
   "source": [
    "'''Se asigna nuevos Id para renombrar los repetidos por nuevos Id.'''\n",
    "df.loc[1707,'CrimeId']=160964245\n",
    "df.loc[3792,'CrimeId']=160964246\n",
    "df.loc[7046,'CrimeId']=160964247\n",
    "df.loc[7047,'CrimeId']=160964248"
   ]
  },
  {
   "cell_type": "code",
   "execution_count": 13,
   "id": "670f86fd",
   "metadata": {},
   "outputs": [
    {
     "name": "stdout",
     "output_type": "stream",
     "text": [
      "Se procede a verificar los CrimeId que estan duplicados y se puede apreciar que ya no existen \n",
      "    duplicados porque se generaron Id nuevos para ese caso.\n"
     ]
    },
    {
     "data": {
      "text/html": [
       "<div>\n",
       "<style scoped>\n",
       "    .dataframe tbody tr th:only-of-type {\n",
       "        vertical-align: middle;\n",
       "    }\n",
       "\n",
       "    .dataframe tbody tr th {\n",
       "        vertical-align: top;\n",
       "    }\n",
       "\n",
       "    .dataframe thead th {\n",
       "        text-align: right;\n",
       "    }\n",
       "</style>\n",
       "<table border=\"1\" class=\"dataframe\">\n",
       "  <thead>\n",
       "    <tr style=\"text-align: right;\">\n",
       "      <th></th>\n",
       "      <th>CrimeId</th>\n",
       "      <th>OriginalCrimeTypeName</th>\n",
       "      <th>OffenseDate</th>\n",
       "      <th>CallTime</th>\n",
       "      <th>CallDateTime</th>\n",
       "      <th>Disposition</th>\n",
       "      <th>Address</th>\n",
       "      <th>City</th>\n",
       "      <th>State</th>\n",
       "      <th>AgencyId</th>\n",
       "      <th>AddressType</th>\n",
       "    </tr>\n",
       "  </thead>\n",
       "  <tbody>\n",
       "  </tbody>\n",
       "</table>\n",
       "</div>"
      ],
      "text/plain": [
       "Empty DataFrame\n",
       "Columns: [CrimeId, OriginalCrimeTypeName, OffenseDate, CallTime, CallDateTime, Disposition, Address, City, State, AgencyId, AddressType]\n",
       "Index: []"
      ]
     },
     "execution_count": 13,
     "metadata": {},
     "output_type": "execute_result"
    }
   ],
   "source": [
    "def VerificacionDuplicados():\n",
    "    '''Se procede a verificar los CrimeId que estan duplicados y se puede apreciar que ya no existen \n",
    "    duplicados porque se generaron Id nuevos para ese caso.'''\n",
    "print(VerificacionDuplicados.__doc__)\n",
    "df[df.CrimeId.duplicated()]"
   ]
  },
  {
   "cell_type": "code",
   "execution_count": 14,
   "id": "c9507eea",
   "metadata": {},
   "outputs": [
    {
     "name": "stdout",
     "output_type": "stream",
     "text": [
      "En el cuarto error se identifica que se debe borrar la que tiene el Calldatetime.\n"
     ]
    },
    {
     "data": {
      "text/html": [
       "<div>\n",
       "<style scoped>\n",
       "    .dataframe tbody tr th:only-of-type {\n",
       "        vertical-align: middle;\n",
       "    }\n",
       "\n",
       "    .dataframe tbody tr th {\n",
       "        vertical-align: top;\n",
       "    }\n",
       "\n",
       "    .dataframe thead th {\n",
       "        text-align: right;\n",
       "    }\n",
       "</style>\n",
       "<table border=\"1\" class=\"dataframe\">\n",
       "  <thead>\n",
       "    <tr style=\"text-align: right;\">\n",
       "      <th></th>\n",
       "      <th>CrimeId</th>\n",
       "      <th>OriginalCrimeTypeName</th>\n",
       "      <th>OffenseDate</th>\n",
       "      <th>CallTime</th>\n",
       "      <th>Disposition</th>\n",
       "      <th>Address</th>\n",
       "      <th>City</th>\n",
       "      <th>State</th>\n",
       "      <th>AgencyId</th>\n",
       "      <th>AddressType</th>\n",
       "    </tr>\n",
       "  </thead>\n",
       "  <tbody>\n",
       "    <tr>\n",
       "      <th>0</th>\n",
       "      <td>160903280</td>\n",
       "      <td>Assault / Battery</td>\n",
       "      <td>2016-03-30</td>\n",
       "      <td>18:42</td>\n",
       "      <td>REP</td>\n",
       "      <td>100 Block Of Chilton Av</td>\n",
       "      <td>San Francisco</td>\n",
       "      <td>CA</td>\n",
       "      <td>1</td>\n",
       "      <td>Premise Address</td>\n",
       "    </tr>\n",
       "    <tr>\n",
       "      <th>1</th>\n",
       "      <td>160912272</td>\n",
       "      <td>Homeless Complaint</td>\n",
       "      <td>2016-03-31</td>\n",
       "      <td>15:31</td>\n",
       "      <td>GOA</td>\n",
       "      <td>2300 Block Of Market St</td>\n",
       "      <td>San Francisco</td>\n",
       "      <td>CA</td>\n",
       "      <td>1</td>\n",
       "      <td>Premise Address</td>\n",
       "    </tr>\n",
       "    <tr>\n",
       "      <th>2</th>\n",
       "      <td>160912590</td>\n",
       "      <td>Susp Info</td>\n",
       "      <td>2016-03-31</td>\n",
       "      <td>16:49</td>\n",
       "      <td>GOA</td>\n",
       "      <td>2300 Block Of Market St</td>\n",
       "      <td>San Francisco</td>\n",
       "      <td>CA</td>\n",
       "      <td>1</td>\n",
       "      <td>Premise Address</td>\n",
       "    </tr>\n",
       "    <tr>\n",
       "      <th>3</th>\n",
       "      <td>160912801</td>\n",
       "      <td>Report</td>\n",
       "      <td>2016-03-31</td>\n",
       "      <td>17:38</td>\n",
       "      <td>GOA</td>\n",
       "      <td>500 Block Of 7th St</td>\n",
       "      <td>San Francisco</td>\n",
       "      <td>CA</td>\n",
       "      <td>1</td>\n",
       "      <td>Premise Address</td>\n",
       "    </tr>\n",
       "    <tr>\n",
       "      <th>4</th>\n",
       "      <td>160912811</td>\n",
       "      <td>594</td>\n",
       "      <td>2016-03-31</td>\n",
       "      <td>17:42</td>\n",
       "      <td>REP</td>\n",
       "      <td>Beale St/bryant St</td>\n",
       "      <td>San Francisco</td>\n",
       "      <td>CA</td>\n",
       "      <td>1</td>\n",
       "      <td>Intersection</td>\n",
       "    </tr>\n",
       "    <tr>\n",
       "      <th>...</th>\n",
       "      <td>...</td>\n",
       "      <td>...</td>\n",
       "      <td>...</td>\n",
       "      <td>...</td>\n",
       "      <td>...</td>\n",
       "      <td>...</td>\n",
       "      <td>...</td>\n",
       "      <td>...</td>\n",
       "      <td>...</td>\n",
       "      <td>...</td>\n",
       "    </tr>\n",
       "    <tr>\n",
       "      <th>10046</th>\n",
       "      <td>160964210</td>\n",
       "      <td>Well Being Check</td>\n",
       "      <td>2016-04-05</td>\n",
       "      <td>23:38</td>\n",
       "      <td>GOA</td>\n",
       "      <td>Hollister Av/hawes St</td>\n",
       "      <td>San Francisco</td>\n",
       "      <td>CA</td>\n",
       "      <td>1</td>\n",
       "      <td>Intersection</td>\n",
       "    </tr>\n",
       "    <tr>\n",
       "      <th>10047</th>\n",
       "      <td>160964216</td>\n",
       "      <td>Traffic Stop</td>\n",
       "      <td>2016-04-05</td>\n",
       "      <td>23:43</td>\n",
       "      <td>ADV</td>\n",
       "      <td>California St/mason St</td>\n",
       "      <td>San Francisco</td>\n",
       "      <td>CA</td>\n",
       "      <td>1</td>\n",
       "      <td>Intersection</td>\n",
       "    </tr>\n",
       "    <tr>\n",
       "      <th>10048</th>\n",
       "      <td>160964227</td>\n",
       "      <td>Traffic Stop</td>\n",
       "      <td>2016-04-05</td>\n",
       "      <td>23:48</td>\n",
       "      <td>CIT</td>\n",
       "      <td>Rosella Ct/onondaga Av</td>\n",
       "      <td>San Francisco</td>\n",
       "      <td>CA</td>\n",
       "      <td>1</td>\n",
       "      <td>Intersection</td>\n",
       "    </tr>\n",
       "    <tr>\n",
       "      <th>10049</th>\n",
       "      <td>160964229</td>\n",
       "      <td>Passing Call</td>\n",
       "      <td>2016-04-05</td>\n",
       "      <td>23:48</td>\n",
       "      <td>Not recorded</td>\n",
       "      <td>0 Blk Herbst Rd</td>\n",
       "      <td>San Francisco</td>\n",
       "      <td>CA</td>\n",
       "      <td>1</td>\n",
       "      <td>Geo-Override</td>\n",
       "    </tr>\n",
       "    <tr>\n",
       "      <th>10050</th>\n",
       "      <td>160964249</td>\n",
       "      <td>Traffic Stop</td>\n",
       "      <td>2016-04-05</td>\n",
       "      <td>23:54</td>\n",
       "      <td>ADV</td>\n",
       "      <td>Grant Av/geary St</td>\n",
       "      <td>San Francisco</td>\n",
       "      <td>CA</td>\n",
       "      <td>1</td>\n",
       "      <td>Intersection</td>\n",
       "    </tr>\n",
       "  </tbody>\n",
       "</table>\n",
       "<p>10051 rows × 10 columns</p>\n",
       "</div>"
      ],
      "text/plain": [
       "         CrimeId OriginalCrimeTypeName OffenseDate CallTime   Disposition  \\\n",
       "0      160903280     Assault / Battery  2016-03-30    18:42           REP   \n",
       "1      160912272    Homeless Complaint  2016-03-31    15:31           GOA   \n",
       "2      160912590             Susp Info  2016-03-31    16:49           GOA   \n",
       "3      160912801                Report  2016-03-31    17:38           GOA   \n",
       "4      160912811                   594  2016-03-31    17:42           REP   \n",
       "...          ...                   ...         ...      ...           ...   \n",
       "10046  160964210      Well Being Check  2016-04-05    23:38           GOA   \n",
       "10047  160964216          Traffic Stop  2016-04-05    23:43           ADV   \n",
       "10048  160964227          Traffic Stop  2016-04-05    23:48           CIT   \n",
       "10049  160964229          Passing Call  2016-04-05    23:48  Not recorded   \n",
       "10050  160964249          Traffic Stop  2016-04-05    23:54           ADV   \n",
       "\n",
       "                       Address           City State AgencyId      AddressType  \n",
       "0      100 Block Of Chilton Av  San Francisco    CA        1  Premise Address  \n",
       "1      2300 Block Of Market St  San Francisco    CA        1  Premise Address  \n",
       "2      2300 Block Of Market St  San Francisco    CA        1  Premise Address  \n",
       "3          500 Block Of 7th St  San Francisco    CA        1  Premise Address  \n",
       "4           Beale St/bryant St  San Francisco    CA        1     Intersection  \n",
       "...                        ...            ...   ...      ...              ...  \n",
       "10046    Hollister Av/hawes St  San Francisco    CA        1     Intersection  \n",
       "10047   California St/mason St  San Francisco    CA        1     Intersection  \n",
       "10048   Rosella Ct/onondaga Av  San Francisco    CA        1     Intersection  \n",
       "10049          0 Blk Herbst Rd  San Francisco    CA        1     Geo-Override  \n",
       "10050        Grant Av/geary St  San Francisco    CA        1     Intersection  \n",
       "\n",
       "[10051 rows x 10 columns]"
      ]
     },
     "execution_count": 14,
     "metadata": {},
     "output_type": "execute_result"
    }
   ],
   "source": [
    "def Borradodatetime():\n",
    "    '''En el cuarto error se identifica que se debe borrar la que tiene el Calldatetime.'''\n",
    "df = df.drop('CallDateTime', axis=1)\n",
    "print(Borradodatetime.__doc__)\n",
    "df"
   ]
  },
  {
   "cell_type": "code",
   "execution_count": 15,
   "id": "5e9febf5",
   "metadata": {},
   "outputs": [
    {
     "data": {
      "text/plain": [
       "array(['REP', 'GOA', 'ADV', 'HAN', 'ND', 'ARR', 'UTL', 'Not recorded',\n",
       "       'CIT', 'PAS', 'ABA', 'NOM', 'ADM', 'CAN', 'INC', 'NCR', '22',\n",
       "       'CRT', 'SFD'], dtype=object)"
      ]
     },
     "execution_count": 15,
     "metadata": {},
     "output_type": "execute_result"
    }
   ],
   "source": [
    "'''En el quinto error se verifica que el 22 hay que reemplazarlo por la moda.'''\n",
    "df['Disposition'].unique()"
   ]
  },
  {
   "cell_type": "code",
   "execution_count": 16,
   "id": "e7ed2618",
   "metadata": {},
   "outputs": [],
   "source": [
    "'''Se define la moda con el uso del metodo mode()'''\n",
    "moda = df['Disposition'].mode()"
   ]
  },
  {
   "cell_type": "code",
   "execution_count": 17,
   "id": "0e431dd7",
   "metadata": {},
   "outputs": [],
   "source": [
    "'''Se reemplaza el 22 en la primera posición.'''\n",
    "df['Disposition'] = df['Disposition'].replace('22',moda[0])\n",
    "'''Se reemplaza el Not recorded en la primera posición.'''\n",
    "df['Disposition'] = df['Disposition'].replace('Not recorded',moda[0])"
   ]
  },
  {
   "cell_type": "code",
   "execution_count": 18,
   "id": "15da57b8",
   "metadata": {},
   "outputs": [
    {
     "data": {
      "text/plain": [
       "array(['REP', 'GOA', 'ADV', 'HAN', 'ND', 'ARR', 'UTL', 'CIT', 'PAS',\n",
       "       'ABA', 'NOM', 'ADM', 'CAN', 'INC', 'NCR', 'CRT', 'SFD'],\n",
       "      dtype=object)"
      ]
     },
     "execution_count": 18,
     "metadata": {},
     "output_type": "execute_result"
    }
   ],
   "source": [
    "'''Se procede a cambiar por mismas letras y ese nan por la moda.'''\n",
    "df['Disposition'].unique()"
   ]
  },
  {
   "cell_type": "code",
   "execution_count": 19,
   "id": "416c577e",
   "metadata": {},
   "outputs": [
    {
     "data": {
      "text/plain": [
       "array(['San Francisco', nan, 'Daly City', 'Treasure Isla', 'Yerba Buena',\n",
       "       'SAN FRANCISCO', 'Presidio', ' S', 'Brisbane'], dtype=object)"
      ]
     },
     "execution_count": 19,
     "metadata": {},
     "output_type": "execute_result"
    }
   ],
   "source": [
    "'''En el sexto error se verifica las ciudades y la forma en que estan escritas. Como se puede\n",
    "observar San Francisco lo escriben de dos maneras direntes al utilizar mayusculas.'''\n",
    "df['City'].unique()"
   ]
  },
  {
   "cell_type": "code",
   "execution_count": 20,
   "id": "c237a598",
   "metadata": {},
   "outputs": [
    {
     "data": {
      "text/plain": [
       "0    San Francisco\n",
       "Name: City, dtype: object"
      ]
     },
     "execution_count": 20,
     "metadata": {},
     "output_type": "execute_result"
    }
   ],
   "source": [
    "'''En este caso se verifica que la moda es San Francisco ya que es la que mas se repite.'''\n",
    "df['City'].mode()"
   ]
  },
  {
   "cell_type": "code",
   "execution_count": 21,
   "id": "22a4754e",
   "metadata": {},
   "outputs": [],
   "source": [
    "'''Se procede a reemplazar SAN FRANCISCO por San Francisco, tambien en caso que encuentre valores\n",
    "nulos se reemplaza por San Francisco y otra forma de escribir tambien se reemplaza por San Francisco.'''\n",
    "df['City'] = df['City'].replace('SAN FRANCISCO','San Francisco')\n",
    "df['City'] = df['City'].replace(np.nan,'San Francisco')\n",
    "df['City'] = df['City'].replace(' S','San Francisco')"
   ]
  },
  {
   "cell_type": "code",
   "execution_count": 22,
   "id": "1579e127",
   "metadata": {},
   "outputs": [
    {
     "data": {
      "text/plain": [
       "array(['San Francisco', 'Daly City', 'Treasure Isla', 'Yerba Buena',\n",
       "       'Presidio', 'Brisbane'], dtype=object)"
      ]
     },
     "execution_count": 22,
     "metadata": {},
     "output_type": "execute_result"
    }
   ],
   "source": [
    "'''Se verifica que ahora San Francisco es un valor unico con lo que se verifica que se reemplazó\n",
    "correctamente.'''\n",
    "df['City'].unique()"
   ]
  },
  {
   "cell_type": "code",
   "execution_count": 23,
   "id": "bbbaa4bb",
   "metadata": {},
   "outputs": [
    {
     "data": {
      "text/plain": [
       "array(['CA', nan], dtype=object)"
      ]
     },
     "execution_count": 23,
     "metadata": {},
     "output_type": "execute_result"
    }
   ],
   "source": [
    "'''El septimo error se encontró que hay que cambiar el nan en State.'''\n",
    "df['State'].unique()"
   ]
  },
  {
   "cell_type": "code",
   "execution_count": 24,
   "id": "2c5c4e8d",
   "metadata": {},
   "outputs": [],
   "source": [
    "'''Se realiza el reemplazo de nan por CA.'''\n",
    "df['State'] = df['State'].replace(np.nan,'CA')"
   ]
  },
  {
   "cell_type": "code",
   "execution_count": 25,
   "id": "52821d6a",
   "metadata": {},
   "outputs": [
    {
     "data": {
      "text/plain": [
       "array(['CA'], dtype=object)"
      ]
     },
     "execution_count": 25,
     "metadata": {},
     "output_type": "execute_result"
    }
   ],
   "source": [
    "'7 hay que cambiar el nan'\n",
    "df['State'].unique()"
   ]
  },
  {
   "cell_type": "code",
   "execution_count": 26,
   "id": "1b739ad0",
   "metadata": {},
   "outputs": [],
   "source": [
    "df['State'] = df['State'].replace(np.nan,'CA')"
   ]
  },
  {
   "cell_type": "code",
   "execution_count": 27,
   "id": "26706ea5",
   "metadata": {},
   "outputs": [
    {
     "data": {
      "text/plain": [
       "array(['CA'], dtype=object)"
      ]
     },
     "execution_count": 27,
     "metadata": {},
     "output_type": "execute_result"
    }
   ],
   "source": [
    "'Se verifica que se realizó el reemplazo correctamente en State'\n",
    "df['State'].unique()"
   ]
  },
  {
   "cell_type": "code",
   "execution_count": 28,
   "id": "2114d152",
   "metadata": {},
   "outputs": [
    {
     "data": {
      "text/plain": [
       "'Premise Address'"
      ]
     },
     "execution_count": 28,
     "metadata": {},
     "output_type": "execute_result"
    }
   ],
   "source": [
    "'''En el octavo error se procede a reemplazar el 1 por la moda.'''\n",
    "df['AddressType'].unique()\n",
    "moda=df['AddressType'].mode()\n",
    "moda[0]"
   ]
  },
  {
   "cell_type": "code",
   "execution_count": 29,
   "id": "a1d89f45",
   "metadata": {},
   "outputs": [],
   "source": [
    "'''Con el uso de replace se verifica que se realiza el reemplazo de 1 por la moda.'''\n",
    "df['AgencyId'] = df['AgencyId'].replace('CA','1')"
   ]
  },
  {
   "cell_type": "code",
   "execution_count": 30,
   "id": "b9e8bed0",
   "metadata": {},
   "outputs": [
    {
     "data": {
      "text/plain": [
       "array(['1'], dtype=object)"
      ]
     },
     "execution_count": 30,
     "metadata": {},
     "output_type": "execute_result"
    }
   ],
   "source": [
    "'''Se verifica que se realiza el reemplazo correctamente.'''\n",
    "df['AgencyId'].unique()"
   ]
  },
  {
   "cell_type": "code",
   "execution_count": 31,
   "id": "3884e6bf",
   "metadata": {},
   "outputs": [
    {
     "data": {
      "text/plain": [
       "array(['Premise Address', 'Intersection', 'Common Location',\n",
       "       'Geo-Override', 'Intersectioon', '1'], dtype=object)"
      ]
     },
     "execution_count": 31,
     "metadata": {},
     "output_type": "execute_result"
    }
   ],
   "source": [
    "'''Se verifica los valores unicos de AddressType.'''\n",
    "df['AddressType'].unique()"
   ]
  },
  {
   "cell_type": "code",
   "execution_count": 32,
   "id": "301099c7",
   "metadata": {},
   "outputs": [],
   "source": [
    "'''Con el uso del metodo mode() se verifica la moda de AddressType.'''\n",
    "moda=df['AddressType'].mode()"
   ]
  },
  {
   "cell_type": "code",
   "execution_count": 33,
   "id": "3c9cb336",
   "metadata": {},
   "outputs": [],
   "source": [
    "'''Finalmente se define el reemplazo de 1 por la moda.'''\n",
    "df['AddressType'] = df['AddressType'].replace('1',moda[0])"
   ]
  },
  {
   "cell_type": "code",
   "execution_count": 34,
   "id": "a81561e3",
   "metadata": {},
   "outputs": [
    {
     "data": {
      "text/plain": [
       "array(['Premise Address', 'Intersection', 'Common Location',\n",
       "       'Geo-Override', 'Intersectioon'], dtype=object)"
      ]
     },
     "execution_count": 34,
     "metadata": {},
     "output_type": "execute_result"
    }
   ],
   "source": [
    "'''El noveno error se identifica que se debe remplazar intersectioon por intersection.'''\n",
    "df['AddressType'].unique()"
   ]
  },
  {
   "cell_type": "code",
   "execution_count": 35,
   "id": "02b87ad9",
   "metadata": {},
   "outputs": [],
   "source": [
    "'''Se procede a remplazar intersection por intersectioon.'''\n",
    "df['AddressType'] = df['AddressType'].replace('Intersectioon','Intersection')"
   ]
  },
  {
   "cell_type": "code",
   "execution_count": 36,
   "id": "8b66f84f",
   "metadata": {},
   "outputs": [
    {
     "data": {
      "text/plain": [
       "array(['Premise Address', 'Intersection', 'Common Location',\n",
       "       'Geo-Override'], dtype=object)"
      ]
     },
     "execution_count": 36,
     "metadata": {},
     "output_type": "execute_result"
    }
   ],
   "source": [
    "'''Se verifica que se ha reemplazado correctamente la corrección de la escritura.'''\n",
    "df['AddressType'].unique()"
   ]
  },
  {
   "cell_type": "code",
   "execution_count": 37,
   "id": "d6e3e026",
   "metadata": {},
   "outputs": [],
   "source": [
    "'''Finalmente se guarda en un archivo json correctamente, su nombre es test.json.'''\n",
    "df.to_json(\"test.json\", orient = \"records\")"
   ]
  }
 ],
 "metadata": {
  "kernelspec": {
   "display_name": "Python 3 (ipykernel)",
   "language": "python",
   "name": "python3"
  },
  "language_info": {
   "codemirror_mode": {
    "name": "ipython",
    "version": 3
   },
   "file_extension": ".py",
   "mimetype": "text/x-python",
   "name": "python",
   "nbconvert_exporter": "python",
   "pygments_lexer": "ipython3",
   "version": "3.9.12"
  }
 },
 "nbformat": 4,
 "nbformat_minor": 5
}
