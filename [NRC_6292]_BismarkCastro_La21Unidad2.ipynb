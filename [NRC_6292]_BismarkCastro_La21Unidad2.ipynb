{
 "cells": [
  {
   "cell_type": "code",
   "execution_count": null,
   "id": "3252a836",
   "metadata": {},
   "outputs": [],
   "source": [
    "import pandas as pd\n",
    "import numpy as np"
   ]
  },
  {
   "cell_type": "code",
   "execution_count": null,
   "id": "0a97f380",
   "metadata": {},
   "outputs": [],
   "source": [
    "df = pd.read_csv('data_act_01.csv', sep=';')"
   ]
  },
  {
   "cell_type": "code",
   "execution_count": null,
   "id": "2d99af2b",
   "metadata": {},
   "outputs": [],
   "source": [
    "df.head()"
   ]
  },
  {
   "cell_type": "code",
   "execution_count": null,
   "id": "fa5ccbf3",
   "metadata": {},
   "outputs": [],
   "source": [
    "df.isnull().sum()"
   ]
  },
  {
   "cell_type": "code",
   "execution_count": null,
   "id": "1841b170",
   "metadata": {},
   "outputs": [],
   "source": [
    "'1 range es columna nula, la borro'\n",
    "df = df.drop(['Range'], axis=1)"
   ]
  },
  {
   "cell_type": "code",
   "execution_count": null,
   "id": "371e037a",
   "metadata": {},
   "outputs": [],
   "source": [
    "'2 OffenseDate dato incorrecto, la cambio'\n",
    "df['OffenseDate'] = pd.to_datetime(df['OffenseDate']).dt.date"
   ]
  },
  {
   "cell_type": "code",
   "execution_count": null,
   "id": "90f14394",
   "metadata": {},
   "outputs": [],
   "source": [
    "'3 los id deben ser únicos de los delitos'\n",
    "df['CrimeId']= df['CrimeId'].astype(int)"
   ]
  },
  {
   "cell_type": "code",
   "execution_count": null,
   "id": "c8145f83",
   "metadata": {},
   "outputs": [],
   "source": [
    "df[df.CrimeId.duplicated()]"
   ]
  },
  {
   "cell_type": "code",
   "execution_count": null,
   "id": "bb767e11",
   "metadata": {},
   "outputs": [],
   "source": [
    "dato = df.loc[:, 'CrimeId'] == 160913455\n",
    "df_rep = df.loc[dato]\n",
    "df_rep"
   ]
  },
  {
   "cell_type": "code",
   "execution_count": null,
   "id": "d512aeb8",
   "metadata": {},
   "outputs": [],
   "source": [
    "dato = df.loc[:, 'CrimeId'] == 160950496\n",
    "df_rep = df.loc[dato]\n",
    "df_rep"
   ]
  },
  {
   "cell_type": "code",
   "execution_count": null,
   "id": "f4753507",
   "metadata": {},
   "outputs": [],
   "source": [
    "df.CrimeId.max()"
   ]
  },
  {
   "cell_type": "code",
   "execution_count": null,
   "id": "21737f5d",
   "metadata": {},
   "outputs": [],
   "source": [
    "df.loc[1707,'CrimeId']=160964250\n",
    "df.loc[3792,'CrimeId']=160964251\n",
    "df.loc[7046,'CrimeId']=160964252\n",
    "df.loc[7047,'CrimeId']=160964253"
   ]
  },
  {
   "cell_type": "code",
   "execution_count": null,
   "id": "85d8a87b",
   "metadata": {},
   "outputs": [],
   "source": [
    "'YA NO HAY DUPLICADOS, YA QUE SE GENERARON ID NUEVOS PARA ESE CASO'\n",
    "df[df.CrimeId.duplicated()]"
   ]
  },
  {
   "cell_type": "code",
   "execution_count": null,
   "id": "b0d7b4ba",
   "metadata": {},
   "outputs": [],
   "source": []
  },
  {
   "cell_type": "code",
   "execution_count": null,
   "id": "477ed660",
   "metadata": {},
   "outputs": [],
   "source": []
  },
  {
   "cell_type": "code",
   "execution_count": null,
   "id": "c5c12bde",
   "metadata": {},
   "outputs": [],
   "source": []
  },
  {
   "cell_type": "code",
   "execution_count": null,
   "id": "fa596b96",
   "metadata": {},
   "outputs": [],
   "source": []
  },
  {
   "cell_type": "code",
   "execution_count": null,
   "id": "98bce165",
   "metadata": {},
   "outputs": [],
   "source": []
  },
  {
   "cell_type": "code",
   "execution_count": null,
   "id": "64f79b44",
   "metadata": {},
   "outputs": [],
   "source": []
  },
  {
   "cell_type": "code",
   "execution_count": null,
   "id": "610cd696",
   "metadata": {},
   "outputs": [],
   "source": []
  }
 ],
 "metadata": {
  "kernelspec": {
   "display_name": "Python 3 (ipykernel)",
   "language": "python",
   "name": "python3"
  },
  "language_info": {
   "codemirror_mode": {
    "name": "ipython",
    "version": 3
   },
   "file_extension": ".py",
   "mimetype": "text/x-python",
   "name": "python",
   "nbconvert_exporter": "python",
   "pygments_lexer": "ipython3",
   "version": "3.9.12"
  }
 },
 "nbformat": 4,
 "nbformat_minor": 5
}
