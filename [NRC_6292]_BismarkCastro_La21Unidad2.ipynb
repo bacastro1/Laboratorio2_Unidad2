{
 "cells": [
  {
   "cell_type": "code",
   "execution_count": null,
   "id": "902e6b98",
   "metadata": {},
   "outputs": [],
   "source": [
    "import pandas as pd\n",
    "import numpy as np"
   ]
  },
  {
   "cell_type": "code",
   "execution_count": null,
   "id": "84f28127",
   "metadata": {},
   "outputs": [],
   "source": [
    "df = pd.read_csv('data_act_01.csv', sep=';')"
   ]
  },
  {
   "cell_type": "code",
   "execution_count": null,
   "id": "69b035ad",
   "metadata": {},
   "outputs": [],
   "source": [
    "df.head()"
   ]
  },
  {
   "cell_type": "code",
   "execution_count": null,
   "id": "6583ff6f",
   "metadata": {},
   "outputs": [],
   "source": [
    "df.isnull().sum()"
   ]
  },
  {
   "cell_type": "code",
   "execution_count": null,
   "id": "1f4599c8",
   "metadata": {},
   "outputs": [],
   "source": [
    "'1 range es columna nula, la borro'\n",
    "df = df.drop(['Range'], axis=1)"
   ]
  },
  {
   "cell_type": "code",
   "execution_count": null,
   "id": "8226187a",
   "metadata": {},
   "outputs": [],
   "source": [
    "'2 OffenseDate dato incorrecto, la cambio'\n",
    "df['OffenseDate'] = pd.to_datetime(df['OffenseDate']).dt.date"
   ]
  },
  {
   "cell_type": "code",
   "execution_count": null,
   "id": "0f2f9030",
   "metadata": {},
   "outputs": [],
   "source": [
    "'3 los id deben ser únicos de los delitos'\n",
    "df['CrimeId']= df['CrimeId'].astype(int)"
   ]
  },
  {
   "cell_type": "code",
   "execution_count": null,
   "id": "a540be58",
   "metadata": {},
   "outputs": [],
   "source": []
  },
  {
   "cell_type": "code",
   "execution_count": null,
   "id": "e5ca0f44",
   "metadata": {},
   "outputs": [],
   "source": []
  },
  {
   "cell_type": "code",
   "execution_count": null,
   "id": "e380677a",
   "metadata": {},
   "outputs": [],
   "source": []
  }
 ],
 "metadata": {
  "kernelspec": {
   "display_name": "Python 3 (ipykernel)",
   "language": "python",
   "name": "python3"
  },
  "language_info": {
   "codemirror_mode": {
    "name": "ipython",
    "version": 3
   },
   "file_extension": ".py",
   "mimetype": "text/x-python",
   "name": "python",
   "nbconvert_exporter": "python",
   "pygments_lexer": "ipython3",
   "version": "3.9.12"
  }
 },
 "nbformat": 4,
 "nbformat_minor": 5
}
